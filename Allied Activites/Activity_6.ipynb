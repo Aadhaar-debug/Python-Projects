{
 "cells": [
  {
   "cell_type": "markdown",
   "id": "8e69e8f3",
   "metadata": {},
   "source": [
    "# Acitivity 6"
   ]
  },
  {
   "cell_type": "markdown",
   "id": "f42577de",
   "metadata": {},
   "source": [
    "# Program to create a list of student’s records and search a student record using a dictionary."
   ]
  },
  {
   "cell_type": "markdown",
   "id": "725ce6de",
   "metadata": {},
   "source": [
    "## Python program to search student record using dictionary "
   ]
  },
  {
   "cell_type": "code",
   "execution_count": 4,
   "id": "466fc542",
   "metadata": {},
   "outputs": [
    {
     "name": "stdout",
     "output_type": "stream",
     "text": [
      "How Many Students you Want To Input?2\n",
      "Enter Roll No:12\n",
      "Enter Name:Arjun\n",
      "Enter Physics Marks:95\n",
      "Enter Chemistry Marks:96\n",
      "Enter Maths Marks:94\n",
      "Enter Roll No:15\n",
      "Enter Name:Max\n",
      "Enter Physics Marks:80\n",
      "Enter Chemistry Marks:89\n",
      "Enter Maths Marks:85\n",
      "Enter Roll Number you Want Search?12\n",
      "12 Arjun 95.0\n",
      "All students who scored more than 60 percentage are : \n",
      "12 Arjun 95.0\n",
      "15 Max 84.66666666666667\n"
     ]
    }
   ],
   "source": [
    "# Student class to get student details and print...\n",
    "class Student:\n",
    "    def GetStudent(self):\n",
    "        self.__rollno = input(\"Enter Roll No:\")\n",
    "        self.__name = input(\"Enter Name:\")\n",
    "        self.__physicsMarks = int(input(\"Enter Physics Marks:\"))\n",
    "        self.__chemistyMarks = int(input(\"Enter Chemistry Marks:\"))\n",
    "        self.__mathMarks = int(input(\"Enter Maths Marks:\"))\n",
    "        return(self.__rollno)\n",
    "\n",
    "    def PutStudent(self):\n",
    "        print(self.__rollno,self.__name,((self.__physicsMarks+self.__chemistyMarks+self.__mathMarks)/3))\n",
    "    def Search(self,min,max):\n",
    "        per = (self.__physicsMarks+self.__mathMarks+self.__chemistyMarks)/3\n",
    "        if(per>=min and per<=max):\n",
    "            return True\n",
    "        else:\n",
    "            return False\n",
    "\n",
    "# creating a dictionary to store student record \n",
    "studentDict = dict()\n",
    "n = int(input(\"How Many Students you Want To Input?\"))\n",
    "for i in range(n):\n",
    " S = Student()\n",
    " rollno = S.GetStudent()\n",
    " studentDict.setdefault(rollno,S)\n",
    "\n",
    "# Searching for student records with roll numbers provided by the user.\n",
    "rollno = input(\"Enter Roll Number you Want Search?\")\n",
    "S = studentDict.get(rollno,\"Not Found!\")\n",
    "if(isinstance(S,Student)):\n",
    "    S.PutStudent()\n",
    "else:\n",
    "    print(S)\n",
    "\n",
    "# Printing records of all users with marks greater than 60% \n",
    "print(\"All students who scored more than 60 percentage are : \")\n",
    "gradeAStudent = list(filter(lambda s:s.Search(60,100),studentDict.values()))\n",
    "if(len(gradeAStudent) == 0):\n",
    "    print(\"Record Not Found!\")\n",
    "else:\n",
    "    for S in gradeAStudent:\n",
    "        S.PutStudent()\n"
   ]
  },
  {
   "cell_type": "code",
   "execution_count": null,
   "id": "27129028",
   "metadata": {},
   "outputs": [],
   "source": []
  }
 ],
 "metadata": {
  "kernelspec": {
   "display_name": "Python 3 (ipykernel)",
   "language": "python",
   "name": "python3"
  },
  "language_info": {
   "codemirror_mode": {
    "name": "ipython",
    "version": 3
   },
   "file_extension": ".py",
   "mimetype": "text/x-python",
   "name": "python",
   "nbconvert_exporter": "python",
   "pygments_lexer": "ipython3",
   "version": "3.10.6"
  }
 },
 "nbformat": 4,
 "nbformat_minor": 5
}
