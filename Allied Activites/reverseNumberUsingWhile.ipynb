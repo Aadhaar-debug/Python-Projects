{
 "cells": [
  {
   "cell_type": "markdown",
   "id": "083853f6",
   "metadata": {},
   "source": [
    "# Program to reverse a Number using a while loop"
   ]
  },
  {
   "cell_type": "code",
   "execution_count": 5,
   "id": "1e9262e1",
   "metadata": {},
   "outputs": [
    {
     "name": "stdout",
     "output_type": "stream",
     "text": [
      "The Reversed Number is: 2387\n"
     ]
    }
   ],
   "source": [
    "#initializing a number\n",
    "number = 7832\n",
    "\n",
    "#setting the rev_number variable to zero\n",
    "rev_number = 0\n",
    "\n",
    "#while loop starts\n",
    "while number != 0:\n",
    "    #remainder of the num divided by 10 is stored in the variable digit\n",
    "    digit = number % 10\n",
    "    #storing the number in rev_number variable\n",
    "    rev_number = rev_number * 10 + digit\n",
    "    number //= 10\n",
    "    \n",
    "print(\"The Reversed Number is: \" + str(rev_number))"
   ]
  },
  {
   "cell_type": "code",
   "execution_count": null,
   "id": "00276522",
   "metadata": {},
   "outputs": [],
   "source": []
  }
 ],
 "metadata": {
  "kernelspec": {
   "display_name": "Python 3 (ipykernel)",
   "language": "python",
   "name": "python3"
  },
  "language_info": {
   "codemirror_mode": {
    "name": "ipython",
    "version": 3
   },
   "file_extension": ".py",
   "mimetype": "text/x-python",
   "name": "python",
   "nbconvert_exporter": "python",
   "pygments_lexer": "ipython3",
   "version": "3.10.6"
  }
 },
 "nbformat": 4,
 "nbformat_minor": 5
}
