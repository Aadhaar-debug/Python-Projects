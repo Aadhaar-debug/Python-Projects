{
 "cells": [
  {
   "cell_type": "code",
   "execution_count": 2,
   "id": "08a30094",
   "metadata": {},
   "outputs": [
    {
     "name": "stdout",
     "output_type": "stream",
     "text": [
      "Rodger details\n",
      "Rodger is a: dog\n",
      "Breed: pug\n",
      "Colour: brown\n",
      "Buzu details\n",
      "Buzu is a: dog\n",
      "Breed: bulldog\n",
      "Colour: black\n",
      "\n",
      "Acessing class variable using class name\n",
      "dog\n"
     ]
    }
   ],
   "source": [
    "class Dog:\n",
    "    anmial = 'dog'\n",
    "    def __init__(self, breed,colour):\n",
    "        self.breed = breed\n",
    "        self.colour = colour\n",
    "        \n",
    "    \n",
    "Rodger = Dog('pug', 'brown')\n",
    "Buzu = Dog('bulldog', 'black')\n",
    "\n",
    "print('Rodger details')\n",
    "print('Rodger is a:', Rodger.anmial)\n",
    "print('Breed:', Rodger.breed)\n",
    "print('Colour:', Rodger.colour)\n",
    "\n",
    "print('Buzu details')\n",
    "print('Buzu is a:', Buzu.anmial)\n",
    "print('Breed:', Buzu.breed)\n",
    "print('Colour:', Buzu.colour)\n",
    "\n",
    "\n",
    "print('\\nAcessing class variable using class name')\n",
    "print(Dog.anmial)"
   ]
  },
  {
   "cell_type": "code",
   "execution_count": 4,
   "id": "966d6301",
   "metadata": {},
   "outputs": [
    {
     "name": "stdout",
     "output_type": "stream",
     "text": [
      "Brown\n"
     ]
    }
   ],
   "source": [
    "class Dog:\n",
    "    anmial = 'dog'\n",
    "    def __init__(self, breed):\n",
    "        self.breed = breed\n",
    "\n",
    "    def setColour(self, colour):\n",
    "        self.colour = colour\n",
    "        \n",
    "    def getColour(self):\n",
    "        return self.colour\n",
    "    \n",
    "Rodger = Dog('pug')\n",
    "Rodger.setColour('Brown')\n",
    "print(Rodger.getColour())"
   ]
  },
  {
   "cell_type": "code",
   "execution_count": 12,
   "id": "702b8d33",
   "metadata": {},
   "outputs": [
    {
     "name": "stdout",
     "output_type": "stream",
     "text": [
      "black\n",
      "23km\n",
      "220kmph\n",
      "2021\n",
      "1N043E019\n"
     ]
    }
   ],
   "source": [
    "class bus:\n",
    "    def __init__(self, colour, millage, max_speed):\n",
    "        self.colour = colour\n",
    "        self.millage = millage\n",
    "        self.max_speed = max_speed\n",
    "        \n",
    "class features(bus):\n",
    "    def __init__(self, colour, millage, max_speed, model, reg_no):\n",
    "        self.model = model\n",
    "        self.reg_no = reg_no\n",
    "        \n",
    "        bus.__init__(self, colour, millage, max_speed)\n",
    "        \n",
    "        \n",
    "car = features('black', '23km', '220kmph', 2021, '1N043E019')\n",
    "print(car.colour)\n",
    "print(car.millage)\n",
    "print(car.max_speed)\n",
    "print(car.model)\n",
    "print(car.reg_no)        "
   ]
  },
  {
   "cell_type": "code",
   "execution_count": null,
   "id": "ed42cfd8",
   "metadata": {},
   "outputs": [],
   "source": []
  }
 ],
 "metadata": {
  "kernelspec": {
   "display_name": "Python 3 (ipykernel)",
   "language": "python",
   "name": "python3"
  },
  "language_info": {
   "codemirror_mode": {
    "name": "ipython",
    "version": 3
   },
   "file_extension": ".py",
   "mimetype": "text/x-python",
   "name": "python",
   "nbconvert_exporter": "python",
   "pygments_lexer": "ipython3",
   "version": "3.10.5"
  }
 },
 "nbformat": 4,
 "nbformat_minor": 5
}
