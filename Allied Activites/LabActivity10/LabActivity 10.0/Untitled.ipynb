{
 "cells": [
  {
   "cell_type": "code",
   "execution_count": 1,
   "id": "03c20eea",
   "metadata": {},
   "outputs": [
    {
     "name": "stdout",
     "output_type": "stream",
     "text": [
      "sum:5\n",
      "sub:-1\n"
     ]
    }
   ],
   "source": [
    "class student:\n",
    "    def __init__(self,x,y):\n",
    "        self.x=x\n",
    "        self.y=y\n",
    "        \n",
    "    def sum(self):\n",
    "        self.add=self.x+self.y\n",
    "        \n",
    "    def sub(self):\n",
    "        self.subtract=self.x-self.y\n",
    "        \n",
    "        \n",
    "    def display(self):\n",
    "        print(\"sum:%d\\nsub:%d\"%(self.add,self.subtract))\n",
    "\n",
    "std = student(2,3)\n",
    "std.sum()\n",
    "std.sub()\n",
    "std.display()"
   ]
  },
  {
   "cell_type": "code",
   "execution_count": 6,
   "id": "e43bb17f",
   "metadata": {},
   "outputs": [
    {
     "name": "stdout",
     "output_type": "stream",
     "text": [
      "The volume of the cylinder 1: 1004.8000000000001\n",
      "the volume of the cylinder 2: 15700.0\n",
      "3.14\n"
     ]
    }
   ],
   "source": [
    "class cylinder:\n",
    "    pi = 3.14\n",
    "    def __init__(self, radius, height):\n",
    "        self.radius = radius\n",
    "        self.height = height\n",
    "        \n",
    "    def volume(self):\n",
    "        return cylinder.pi*(self.radius**2)*self.height\n",
    "    def description(cls):\n",
    "        return cls.pi\n",
    "if __name__ ==\"__main__\":\n",
    "    c1 = cylinder(4, 20)\n",
    "    c2 = cylinder(10, 50)\n",
    "    print(\"The volume of the cylinder 1:\",c1.volume())\n",
    "    print(\"the volume of the cylinder 2:\",c2.volume())\n",
    "    print(\"the value of pi for both the cyl\",c1.description())"
   ]
  },
  {
   "cell_type": "code",
   "execution_count": null,
   "id": "91b0a2b5",
   "metadata": {},
   "outputs": [],
   "source": []
  }
 ],
 "metadata": {
  "kernelspec": {
   "display_name": "Python 3 (ipykernel)",
   "language": "python",
   "name": "python3"
  },
  "language_info": {
   "codemirror_mode": {
    "name": "ipython",
    "version": 3
   },
   "file_extension": ".py",
   "mimetype": "text/x-python",
   "name": "python",
   "nbconvert_exporter": "python",
   "pygments_lexer": "ipython3",
   "version": "3.10.5"
  }
 },
 "nbformat": 4,
 "nbformat_minor": 5
}
