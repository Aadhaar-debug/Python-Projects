{
 "cells": [
  {
   "cell_type": "markdown",
   "id": "58ac292c",
   "metadata": {},
   "source": [
    "# Activity-3"
   ]
  },
  {
   "cell_type": "markdown",
   "id": "f7857715",
   "metadata": {},
   "source": [
    "# # A. Count the number of alphabets in the given string."
   ]
  },
  {
   "cell_type": "code",
   "execution_count": 58,
   "id": "ada5e03f",
   "metadata": {},
   "outputs": [],
   "source": [
    "#Method #1 : Using isalpha() + len()"
   ]
  },
  {
   "cell_type": "code",
   "execution_count": 23,
   "id": "613623fa",
   "metadata": {},
   "outputs": [],
   "source": [
    "test_str='geeksforgeeks !!$*** best all Geeks 10-0'"
   ]
  },
  {
   "cell_type": "code",
   "execution_count": 24,
   "id": "9116a5b1",
   "metadata": {},
   "outputs": [
    {
     "name": "stdout",
     "output_type": "stream",
     "text": [
      "The original string is :geeksforgeeks !!$*** best all Geeks 10-0\n",
      "Count of Alphabets :25\n"
     ]
    }
   ],
   "source": [
    "print(\"The original string is :\" + str(test_str))\n",
    "res = len([ele for ele in test_str if ele.isalpha()])\n",
    "print(\"Count of Alphabets :\" + str(res))"
   ]
  },
  {
   "cell_type": "code",
   "execution_count": 39,
   "id": "b43f2126",
   "metadata": {},
   "outputs": [
    {
     "name": "stdout",
     "output_type": "stream",
     "text": [
      "20\n"
     ]
    }
   ],
   "source": [
    "def getSum(number):\n",
    "    sum=0\n",
    "    while (number != 0):\n",
    "        sum = sum + (number % 10)\n",
    "        number = number//10\n",
    "    return sum\n",
    "number = 785\n",
    "print(getSum(number))"
   ]
  },
  {
   "cell_type": "code",
   "execution_count": 41,
   "id": "ae9d7d5b",
   "metadata": {},
   "outputs": [],
   "source": [
    "#Method #2 : Using ascii_uppercase() + ascii_lowercase() + len()"
   ]
  },
  {
   "cell_type": "code",
   "execution_count": 55,
   "id": "fa09e4b5",
   "metadata": {},
   "outputs": [],
   "source": [
    "import string\n",
    "test_str='geeksforgeeks !!$ is best 4 all Geeks 10-0'"
   ]
  },
  {
   "cell_type": "code",
   "execution_count": 56,
   "id": "caab954b",
   "metadata": {},
   "outputs": [
    {
     "name": "stdout",
     "output_type": "stream",
     "text": [
      "The original string is :geeksforgeeks !!$ is best 4 all Geeks 10-0\n",
      "Count of Alphabets :27\n"
     ]
    }
   ],
   "source": [
    "print(\"The original string is :\" + str(test_str))\n",
    "res = len([ele for ele in test_str if ele in string.ascii_uppercase or ele in string.ascii_lowercase])\n",
    "print(\"Count of Alphabets :\" + str(res))"
   ]
  },
  {
   "cell_type": "markdown",
   "id": "673ce340",
   "metadata": {},
   "source": [
    "# B. To extract characters in the given, range from the given string."
   ]
  },
  {
   "cell_type": "code",
   "execution_count": 59,
   "id": "9c7a86cf",
   "metadata": {},
   "outputs": [],
   "source": [
    "#Method : Using join() + list comprehension"
   ]
  },
  {
   "cell_type": "code",
   "execution_count": 62,
   "id": "fd36bf82",
   "metadata": {},
   "outputs": [
    {
     "name": "stdout",
     "output_type": "stream",
     "text": [
      "The original list is : ['geeksforgeeks', 'is', 'best', 'for', 'geeks']\n",
      "Range characters : sbestforgeeks\n"
     ]
    }
   ],
   "source": [
    "test_list = [\"geeksforgeeks\", \"is\", \"best\", \"for\", \"geeks\"]\n",
    "# printing original list\n",
    "print(\"The original list is : \" + str(test_list))\n",
    "# initializing char range\n",
    "strt, end = 14, 30\n",
    "# strt and end used to get desired characters\n",
    "res =''.join([sub for sub in test_list])[strt : end]\n",
    "# printing result\n",
    "print(\"Range characters : \" + str(res))"
   ]
  },
  {
   "cell_type": "markdown",
   "id": "413e6c53",
   "metadata": {},
   "source": [
    "# C. Check if the string is alphanumeric or not."
   ]
  },
  {
   "cell_type": "markdown",
   "id": "1523cbb5",
   "metadata": {},
   "source": [
    "Example 1: More examples on Python String isalnum() Method"
   ]
  },
  {
   "cell_type": "code",
   "execution_count": 63,
   "id": "4553cc18",
   "metadata": {},
   "outputs": [
    {
     "name": "stdout",
     "output_type": "stream",
     "text": [
      "abc 123 is alphanumeric? False\n"
     ]
    }
   ],
   "source": [
    "string =\"abc 123\"\n",
    "print(string, \"is alphanumeric?\", string.isalnum())"
   ]
  },
  {
   "cell_type": "code",
   "execution_count": 64,
   "id": "68ef5db4",
   "metadata": {},
   "outputs": [
    {
     "name": "stdout",
     "output_type": "stream",
     "text": [
      "abc_123 is alphanumeric? False\n"
     ]
    }
   ],
   "source": [
    "string =\"abc_123\"\n",
    "print(string, \"is alphanumeric?\", string.isalnum())"
   ]
  },
  {
   "cell_type": "code",
   "execution_count": 65,
   "id": "1dd59ec2",
   "metadata": {},
   "outputs": [
    {
     "name": "stdout",
     "output_type": "stream",
     "text": [
      "123 is alphanumeric? True\n"
     ]
    }
   ],
   "source": [
    "string =\"123\"\n",
    "print(string, \"is alphanumeric?\", string.isalnum())"
   ]
  },
  {
   "cell_type": "code",
   "execution_count": 66,
   "id": "74b3d582",
   "metadata": {},
   "outputs": [
    {
     "name": "stdout",
     "output_type": "stream",
     "text": [
      "abc is alphanumeric? True\n"
     ]
    }
   ],
   "source": [
    "string =\"abc\"\n",
    "print(string, \"is alphanumeric?\", string.isalnum())"
   ]
  },
  {
   "cell_type": "markdown",
   "id": "a620229e",
   "metadata": {},
   "source": [
    "Example 2: isalnum() in if…else Statement"
   ]
  },
  {
   "cell_type": "code",
   "execution_count": 69,
   "id": "a299ce87",
   "metadata": {},
   "outputs": [
    {
     "name": "stdout",
     "output_type": "stream",
     "text": [
      "Password is alphanumeric.\n"
     ]
    }
   ],
   "source": [
    "password = \"user123456\"\n",
    "if password.isalnum():\n",
    "    print(\"Password is alphanumeric.\")\n",
    "else:\n",
    "    print(\"Password is not alphanumeric.\")"
   ]
  },
  {
   "cell_type": "code",
   "execution_count": null,
   "id": "0770d0e8",
   "metadata": {},
   "outputs": [],
   "source": []
  }
 ],
 "metadata": {
  "kernelspec": {
   "display_name": "Python 3 (ipykernel)",
   "language": "python",
   "name": "python3"
  },
  "language_info": {
   "codemirror_mode": {
    "name": "ipython",
    "version": 3
   },
   "file_extension": ".py",
   "mimetype": "text/x-python",
   "name": "python",
   "nbconvert_exporter": "python",
   "pygments_lexer": "ipython3",
   "version": "3.10.6"
  }
 },
 "nbformat": 4,
 "nbformat_minor": 5
}
