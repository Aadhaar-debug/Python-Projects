{
 "cells": [
  {
   "cell_type": "code",
   "execution_count": 3,
   "id": "4eb98430",
   "metadata": {},
   "outputs": [
    {
     "name": "stdout",
     "output_type": "stream",
     "text": [
      "Enter the temperature in celius:100\n",
      "1832.0 farenhiet\n"
     ]
    }
   ],
   "source": [
    "temp = float(input(\"Enter the temperature in celius:\"))\n",
    "farenhiet = (temp*18)+32\n",
    "print(farenhiet,\"farenhiet\")"
   ]
  },
  {
   "cell_type": "code",
   "execution_count": 5,
   "id": "232f4402",
   "metadata": {},
   "outputs": [
    {
     "name": "stdout",
     "output_type": "stream",
     "text": [
      "Enter the temperature in celius:1832\n",
      "100.0 degree celius\n"
     ]
    }
   ],
   "source": [
    "temp = float(input(\"Enter the temperature in celius:\"))\n",
    "celius = (temp - 32)/18\n",
    "print(celius,\"degree celius\")"
   ]
  },
  {
   "cell_type": "code",
   "execution_count": null,
   "id": "3e4b9374",
   "metadata": {},
   "outputs": [],
   "source": []
  }
 ],
 "metadata": {
  "kernelspec": {
   "display_name": "Python 3 (ipykernel)",
   "language": "python",
   "name": "python3"
  },
  "language_info": {
   "codemirror_mode": {
    "name": "ipython",
    "version": 3
   },
   "file_extension": ".py",
   "mimetype": "text/x-python",
   "name": "python",
   "nbconvert_exporter": "python",
   "pygments_lexer": "ipython3",
   "version": "3.10.5"
  }
 },
 "nbformat": 4,
 "nbformat_minor": 5
}
