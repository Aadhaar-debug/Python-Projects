{
 "cells": [
  {
   "cell_type": "markdown",
   "id": "ec0f1cba",
   "metadata": {},
   "source": [
    "# Activity 5"
   ]
  },
  {
   "cell_type": "markdown",
   "id": "8127a255",
   "metadata": {},
   "source": [
    "Write a program to reverse every kth row in a matrix."
   ]
  },
  {
   "cell_type": "markdown",
   "id": "c9f29877",
   "metadata": {},
   "source": [
    "Method 1: Using reversed() and loop"
   ]
  },
  {
   "cell_type": "code",
   "execution_count": 14,
   "id": "8c7971c1",
   "metadata": {},
   "outputs": [
    {
     "name": "stdout",
     "output_type": "stream",
     "text": [
      "The original list is :[[5, 3, 2], [8, 6, 3], [3, 5, 2], [3, 6], [3, 7, 4], [2, 9]]\n",
      "After reversing every Kth row: [[5, 3, 2], [8, 6, 3], [2, 5, 3], [3, 6], [3, 7, 4], [9, 2]]\n"
     ]
    }
   ],
   "source": [
    "test_list = [[5, 3, 2], [8, 6, 3], [3, 5, 2], [3, 6], [3, 7, 4], [2, 9]]\n",
    "# printing original list\n",
    "print(\"The original list is :\" + str(test_list))\n",
    "# initializing K\n",
    "K = 3\n",
    "res = []\n",
    "for idx, ele in enumerate(test_list):\n",
    "    # checking for K multiple\n",
    "    if (idx + 1) % K == 0:\n",
    "        # reversing using reversed\n",
    "        res.append(list(reversed(ele)))\n",
    "    else:\n",
    "        res.append(ele)\n",
    "#printing result\n",
    "print(\"After reversing every Kth row: \" + str(res))"
   ]
  },
  {
   "cell_type": "markdown",
   "id": "365446b9",
   "metadata": {},
   "source": [
    "Method 2: Using Slicing and list comprehension"
   ]
  },
  {
   "cell_type": "code",
   "execution_count": 17,
   "id": "3ec44f5f",
   "metadata": {},
   "outputs": [
    {
     "name": "stdout",
     "output_type": "stream",
     "text": [
      "The original list is :[[5, 3, 2], [8, 6, 3], [3, 5, 2], [3, 6], [3, 7, 4], [2, 9]]\n",
      "After reversing every Kth row:[[5, 3, 2], [8, 6, 3], [2, 5, 3], [3, 6], [3, 7, 4], [9, 2]]\n"
     ]
    }
   ],
   "source": [
    "test_list = [[5, 3, 2], [8, 6, 3], [3, 5, 2], [3, 6], [3, 7, 4], [2, 9]]\n",
    "# printing original list\n",
    "print(\"The original list is :\" + str(test_list))\n",
    "# initializing K\n",
    "K = 3\n",
    "# using enumerate() to get index and elements.\n",
    "# list comprehension to perform of iteration\n",
    "res = [ele[::-1] if (idx + 1) % K == 0 else ele for idx,\n",
    "       ele in enumerate(test_list)]\n",
    "#printing result\n",
    "print(\"After reversing every Kth row:\" + str(res))"
   ]
  },
  {
   "cell_type": "code",
   "execution_count": null,
   "id": "f7754c0b",
   "metadata": {},
   "outputs": [],
   "source": []
  }
 ],
 "metadata": {
  "kernelspec": {
   "display_name": "Python 3 (ipykernel)",
   "language": "python",
   "name": "python3"
  },
  "language_info": {
   "codemirror_mode": {
    "name": "ipython",
    "version": 3
   },
   "file_extension": ".py",
   "mimetype": "text/x-python",
   "name": "python",
   "nbconvert_exporter": "python",
   "pygments_lexer": "ipython3",
   "version": "3.10.6"
  }
 },
 "nbformat": 4,
 "nbformat_minor": 5
}
