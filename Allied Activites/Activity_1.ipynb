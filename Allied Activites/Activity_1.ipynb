{
 "cells": [
  {
   "cell_type": "markdown",
   "id": "55c8142f",
   "metadata": {},
   "source": [
    "Activity 1"
   ]
  },
  {
   "cell_type": "code",
   "execution_count": 1,
   "id": "9834c128",
   "metadata": {},
   "outputs": [
    {
     "name": "stdout",
     "output_type": "stream",
     "text": [
      "x is of type <class 'str'>\n"
     ]
    }
   ],
   "source": [
    "a='x'\n",
    "print(a, \"is of type\", type(a))"
   ]
  },
  {
   "cell_type": "code",
   "execution_count": 2,
   "id": "c892d020",
   "metadata": {},
   "outputs": [
    {
     "name": "stdout",
     "output_type": "stream",
     "text": [
      "8 is of type <class 'int'>\n"
     ]
    }
   ],
   "source": [
    "a=8\n",
    "print(a, \"is of type\", type(a))"
   ]
  },
  {
   "cell_type": "code",
   "execution_count": 3,
   "id": "18e2e03f",
   "metadata": {},
   "outputs": [
    {
     "name": "stdout",
     "output_type": "stream",
     "text": [
      "(6+5j) is of type <class 'complex'>\n"
     ]
    }
   ],
   "source": [
    "a=6+5j\n",
    "print(a, \"is of type\", type(a))"
   ]
  },
  {
   "cell_type": "code",
   "execution_count": 4,
   "id": "d2a53074",
   "metadata": {},
   "outputs": [],
   "source": [
    "a=[4,6,8,2,68,42,81,52]"
   ]
  },
  {
   "cell_type": "code",
   "execution_count": 5,
   "id": "89a6cd84",
   "metadata": {},
   "outputs": [
    {
     "name": "stdout",
     "output_type": "stream",
     "text": [
      "a[2]= 8\n"
     ]
    }
   ],
   "source": [
    "#a[2]=8\n",
    "print(\"a[2]=\",a[2])"
   ]
  },
  {
   "cell_type": "code",
   "execution_count": 6,
   "id": "28317486",
   "metadata": {},
   "outputs": [
    {
     "name": "stdout",
     "output_type": "stream",
     "text": [
      "a[0:3]= [4, 6, 8]\n"
     ]
    }
   ],
   "source": [
    "print(\"a[0:3]=\",a[0:3])"
   ]
  },
  {
   "cell_type": "code",
   "execution_count": 7,
   "id": "7e0dfb3d",
   "metadata": {},
   "outputs": [
    {
     "name": "stdout",
     "output_type": "stream",
     "text": [
      "a[5:]= [42, 81, 52]\n"
     ]
    }
   ],
   "source": [
    "print(\"a[5:]=\",a[5:])"
   ]
  },
  {
   "cell_type": "code",
   "execution_count": 8,
   "id": "2f54648d",
   "metadata": {},
   "outputs": [
    {
     "name": "stdout",
     "output_type": "stream",
     "text": [
      "a[-1]= 52\n"
     ]
    }
   ],
   "source": [
    "print(\"a[-1]=\",a[-1])"
   ]
  },
  {
   "cell_type": "code",
   "execution_count": 9,
   "id": "2fd19a72",
   "metadata": {},
   "outputs": [],
   "source": [
    "a[2]=99"
   ]
  },
  {
   "cell_type": "code",
   "execution_count": 10,
   "id": "0fa5bcd6",
   "metadata": {},
   "outputs": [
    {
     "name": "stdout",
     "output_type": "stream",
     "text": [
      "a[2]= 99\n"
     ]
    }
   ],
   "source": [
    "print(\"a[2]=\",a[2])"
   ]
  },
  {
   "cell_type": "code",
   "execution_count": 11,
   "id": "26efbfd5",
   "metadata": {},
   "outputs": [
    {
     "name": "stdout",
     "output_type": "stream",
     "text": [
      "a[0:3]= [4, 6, 99]\n"
     ]
    }
   ],
   "source": [
    "print(\"a[0:3]=\",a[0:3])"
   ]
  },
  {
   "cell_type": "code",
   "execution_count": 12,
   "id": "9b3c1b80",
   "metadata": {},
   "outputs": [
    {
     "name": "stdout",
     "output_type": "stream",
     "text": [
      "This is a string\n",
      "A multiline\n",
      "string\n"
     ]
    }
   ],
   "source": [
    "s=\"This is a string\"\n",
    "print(s)\n",
    "s='''A multiline\n",
    "string'''\n",
    "print(s)"
   ]
  },
  {
   "cell_type": "code",
   "execution_count": 13,
   "id": "803e6e7e",
   "metadata": {},
   "outputs": [
    {
     "name": "stdout",
     "output_type": "stream",
     "text": [
      "s[4]= o\n",
      "s[6:11]= world\n"
     ]
    }
   ],
   "source": [
    "s='Hello world!'\n",
    "#s[4]='o'\n",
    "print(\"s[4]=\",s[4])\n",
    "#s[6:11]='world'\n",
    "print(\"s[6:11]=\",s[6:11])"
   ]
  },
  {
   "cell_type": "code",
   "execution_count": 14,
   "id": "ee445d32",
   "metadata": {},
   "outputs": [],
   "source": [
    "a = {5,2,3,1,4}"
   ]
  },
  {
   "cell_type": "code",
   "execution_count": 15,
   "id": "dcf98705",
   "metadata": {},
   "outputs": [
    {
     "name": "stdout",
     "output_type": "stream",
     "text": [
      "a= {1, 2, 3, 4, 5}\n"
     ]
    }
   ],
   "source": [
    "# printing set variable\n",
    "print(\"a=\", a)"
   ]
  },
  {
   "cell_type": "code",
   "execution_count": 16,
   "id": "a1f563e8",
   "metadata": {},
   "outputs": [
    {
     "name": "stdout",
     "output_type": "stream",
     "text": [
      "<class 'set'>\n"
     ]
    }
   ],
   "source": [
    "# data type of variable a\n",
    "print(type(a))"
   ]
  },
  {
   "cell_type": "code",
   "execution_count": 17,
   "id": "3c9c28c0",
   "metadata": {},
   "outputs": [
    {
     "name": "stdout",
     "output_type": "stream",
     "text": [
      "{1, 2, 3}\n"
     ]
    }
   ],
   "source": [
    "a = {1,2,2,3,3,3}\n",
    "print(a)"
   ]
  },
  {
   "cell_type": "code",
   "execution_count": 18,
   "id": "c4002811",
   "metadata": {},
   "outputs": [
    {
     "name": "stdout",
     "output_type": "stream",
     "text": [
      "<class 'dict'>\n",
      "d[1] = value\n",
      "d['key']= 2\n"
     ]
    }
   ],
   "source": [
    "d = {1:'value','key':2}\n",
    "print(type(d))\n",
    "print(\"d[1] =\", d[1])\n",
    "print(\"d['key']=\", d['key'])"
   ]
  },
  {
   "cell_type": "code",
   "execution_count": 19,
   "id": "39540044",
   "metadata": {},
   "outputs": [
    {
     "ename": "KeyError",
     "evalue": "2",
     "output_type": "error",
     "traceback": [
      "\u001b[1;31m---------------------------------------------------------------------------\u001b[0m",
      "\u001b[1;31mKeyError\u001b[0m                                  Traceback (most recent call last)",
      "Cell \u001b[1;32mIn [19], line 1\u001b[0m\n\u001b[1;32m----> 1\u001b[0m \u001b[38;5;28mprint\u001b[39m(\u001b[38;5;124m\"\u001b[39m\u001b[38;5;124md[2]=\u001b[39m\u001b[38;5;124m\"\u001b[39m,\u001b[43md\u001b[49m\u001b[43m[\u001b[49m\u001b[38;5;241;43m2\u001b[39;49m\u001b[43m]\u001b[49m)\n",
      "\u001b[1;31mKeyError\u001b[0m: 2"
     ]
    }
   ],
   "source": [
    "print(\"d[2]=\",d[2])"
   ]
  },
  {
   "cell_type": "code",
   "execution_count": 20,
   "id": "bcb500b5",
   "metadata": {},
   "outputs": [
    {
     "data": {
      "text/plain": [
       "5.0"
      ]
     },
     "execution_count": 20,
     "metadata": {},
     "output_type": "execute_result"
    }
   ],
   "source": [
    "float(5)"
   ]
  },
  {
   "cell_type": "code",
   "execution_count": 21,
   "id": "49d0e0a5",
   "metadata": {},
   "outputs": [
    {
     "data": {
      "text/plain": [
       "10"
      ]
     },
     "execution_count": 21,
     "metadata": {},
     "output_type": "execute_result"
    }
   ],
   "source": [
    "int(10.6)"
   ]
  },
  {
   "cell_type": "code",
   "execution_count": 22,
   "id": "af483651",
   "metadata": {},
   "outputs": [
    {
     "data": {
      "text/plain": [
       "2.5"
      ]
     },
     "execution_count": 22,
     "metadata": {},
     "output_type": "execute_result"
    }
   ],
   "source": [
    "float('2.5')"
   ]
  },
  {
   "cell_type": "code",
   "execution_count": 23,
   "id": "c9299bec",
   "metadata": {},
   "outputs": [
    {
     "ename": "ValueError",
     "evalue": "invalid literal for int() with base 10: 'lp'",
     "output_type": "error",
     "traceback": [
      "\u001b[1;31m---------------------------------------------------------------------------\u001b[0m",
      "\u001b[1;31mValueError\u001b[0m                                Traceback (most recent call last)",
      "Cell \u001b[1;32mIn [23], line 1\u001b[0m\n\u001b[1;32m----> 1\u001b[0m \u001b[38;5;28;43mint\u001b[39;49m\u001b[43m(\u001b[49m\u001b[38;5;124;43m'\u001b[39;49m\u001b[38;5;124;43mlp\u001b[39;49m\u001b[38;5;124;43m'\u001b[39;49m\u001b[43m)\u001b[49m\n",
      "\u001b[1;31mValueError\u001b[0m: invalid literal for int() with base 10: 'lp'"
     ]
    }
   ],
   "source": [
    "int('lp')"
   ]
  },
  {
   "cell_type": "code",
   "execution_count": 24,
   "id": "b5ad8f97",
   "metadata": {},
   "outputs": [
    {
     "data": {
      "text/plain": [
       "{1, 2, 3}"
      ]
     },
     "execution_count": 24,
     "metadata": {},
     "output_type": "execute_result"
    }
   ],
   "source": [
    "set([1,2,3])"
   ]
  },
  {
   "cell_type": "code",
   "execution_count": 25,
   "id": "40b8f1a3",
   "metadata": {},
   "outputs": [
    {
     "data": {
      "text/plain": [
       "(5, 6, 7)"
      ]
     },
     "execution_count": 25,
     "metadata": {},
     "output_type": "execute_result"
    }
   ],
   "source": [
    "tuple({5,6,7})"
   ]
  },
  {
   "cell_type": "code",
   "execution_count": 26,
   "id": "96b9174a",
   "metadata": {},
   "outputs": [
    {
     "data": {
      "text/plain": [
       "['h', 'e', 'l', 'l', 'o']"
      ]
     },
     "execution_count": 26,
     "metadata": {},
     "output_type": "execute_result"
    }
   ],
   "source": [
    "list(\"hello\")"
   ]
  },
  {
   "cell_type": "code",
   "execution_count": 27,
   "id": "f4663ec3",
   "metadata": {},
   "outputs": [
    {
     "data": {
      "text/plain": [
       "{1: 2, 3: 4}"
      ]
     },
     "execution_count": 27,
     "metadata": {},
     "output_type": "execute_result"
    }
   ],
   "source": [
    "dict([[1,2],[3,4]])"
   ]
  },
  {
   "cell_type": "code",
   "execution_count": 28,
   "id": "3d518958",
   "metadata": {},
   "outputs": [
    {
     "data": {
      "text/plain": [
       "{3: 26, 4: 44}"
      ]
     },
     "execution_count": 28,
     "metadata": {},
     "output_type": "execute_result"
    }
   ],
   "source": [
    "dict([(3,26),(4,44)])"
   ]
  },
  {
   "cell_type": "code",
   "execution_count": 32,
   "id": "3d506263",
   "metadata": {},
   "outputs": [],
   "source": [
    "if False:\n",
    "    1 + \"two\"; # This line never runs, so no TypeError is raised\n",
    "else:\n",
    "    1 + 2 "
   ]
  },
  {
   "cell_type": "code",
   "execution_count": 30,
   "id": "ab2aacc4",
   "metadata": {},
   "outputs": [
    {
     "ename": "SyntaxError",
     "evalue": "invalid syntax (435688559.py, line 3)",
     "output_type": "error",
     "traceback": [
      "\u001b[1;36m  Cell \u001b[1;32mIn [30], line 3\u001b[1;36m\u001b[0m\n\u001b[1;33m    else:\u001b[0m\n\u001b[1;37m    ^\u001b[0m\n\u001b[1;31mSyntaxError\u001b[0m\u001b[1;31m:\u001b[0m invalid syntax\n"
     ]
    }
   ],
   "source": [
    "if False:\n",
    "    1 + \"two\"; # This line never runs, so no TypeError is raised\n",
    "    else:\n",
    "      1 + 2 \n",
    "    \n",
    "3\n",
    "1 + \"two\"; # Now this is type checked, and a TypeError is raised"
   ]
  },
  {
   "cell_type": "code",
   "execution_count": 33,
   "id": "b96c00dc",
   "metadata": {},
   "outputs": [
    {
     "ename": "SyntaxError",
     "evalue": "invalid syntax (105051110.py, line 1)",
     "output_type": "error",
     "traceback": [
      "\u001b[1;36m  Cell \u001b[1;32mIn [33], line 1\u001b[1;36m\u001b[0m\n\u001b[1;33m    1 + &quot;two&quot; # Now this is type checked, and a TypeError is raised\u001b[0m\n\u001b[1;37m        ^\u001b[0m\n\u001b[1;31mSyntaxError\u001b[0m\u001b[1;31m:\u001b[0m invalid syntax\n"
     ]
    }
   ],
   "source": [
    "1 + &quot;two&quot; # Now this is type checked, and a TypeError is raised"
   ]
  },
  {
   "cell_type": "code",
   "execution_count": 34,
   "id": "7aeef8e8",
   "metadata": {},
   "outputs": [],
   "source": [
    "thing = \"hello\";"
   ]
  },
  {
   "cell_type": "code",
   "execution_count": 35,
   "id": "22da330f",
   "metadata": {},
   "outputs": [
    {
     "data": {
      "text/plain": [
       "str"
      ]
     },
     "execution_count": 35,
     "metadata": {},
     "output_type": "execute_result"
    }
   ],
   "source": [
    "thing = \"hello\"\n",
    "type(thing)"
   ]
  },
  {
   "cell_type": "code",
   "execution_count": 36,
   "id": "d7051545",
   "metadata": {},
   "outputs": [
    {
     "data": {
      "text/plain": [
       "float"
      ]
     },
     "execution_count": 36,
     "metadata": {},
     "output_type": "execute_result"
    }
   ],
   "source": [
    "thing = 28.1\n",
    "type(thing)"
   ]
  },
  {
   "cell_type": "code",
   "execution_count": 37,
   "id": "5ed7908f",
   "metadata": {},
   "outputs": [
    {
     "name": "stdout",
     "output_type": "stream",
     "text": [
      "20\n"
     ]
    }
   ],
   "source": [
    "number = -20\n",
    "absolute_number = abs(number)\n",
    "print(absolute_number)"
   ]
  },
  {
   "cell_type": "code",
   "execution_count": 38,
   "id": "069996e2",
   "metadata": {},
   "outputs": [
    {
     "name": "stdout",
     "output_type": "stream",
     "text": [
      "Absolute value of -20 is: 20\n"
     ]
    }
   ],
   "source": [
    "# random integer\n",
    "integer = -20\n",
    "print('Absolute value of -20 is:', abs(integer))"
   ]
  },
  {
   "cell_type": "code",
   "execution_count": 39,
   "id": "5809065d",
   "metadata": {},
   "outputs": [
    {
     "name": "stdout",
     "output_type": "stream",
     "text": [
      "Absolute value of -20.66 is: 20.66\n"
     ]
    }
   ],
   "source": [
    "# random floating number\n",
    "floating = -20.66\n",
    "print('Absolute value of -20.66 is:', abs(floating))"
   ]
  },
  {
   "cell_type": "code",
   "execution_count": 40,
   "id": "b6660dae",
   "metadata": {},
   "outputs": [
    {
     "name": "stdout",
     "output_type": "stream",
     "text": [
      "3\n"
     ]
    }
   ],
   "source": [
    "languages = ['Python','Java','JavaScript']\n",
    "# compute the length of languages\n",
    "length = len(languages)\n",
    "print(length)"
   ]
  },
  {
   "cell_type": "code",
   "execution_count": 41,
   "id": "ae527185",
   "metadata": {},
   "outputs": [
    {
     "name": "stdout",
     "output_type": "stream",
     "text": [
      "[] length 0\n",
      "[1, 2, 3] length 3\n",
      "(1, 2, 3) length 3\n",
      "Length of range(1, 10) is 9\n"
     ]
    }
   ],
   "source": [
    "testList = []\n",
    "print(testList,'length', len(testList))\n",
    "testList = [1, 2, 3]\n",
    "print(testList,'length', len(testList))\n",
    "testTuple = (1, 2, 3)\n",
    "print(testTuple,'length', len(testTuple))\n",
    "testRange = range(1, 10)\n",
    "print('Length of', testRange,'is', len(testRange))"
   ]
  },
  {
   "cell_type": "code",
   "execution_count": 42,
   "id": "4b1a5cb0",
   "metadata": {},
   "outputs": [
    {
     "name": "stdout",
     "output_type": "stream",
     "text": [
      "Length of  is 0\n",
      "Length of Python is 6\n",
      "Length of b'Python' is 6\n",
      "Length of b'\\x01\\x02\\x03' is 3\n"
     ]
    }
   ],
   "source": [
    "testString = ''\n",
    "print('Length of', testString,'is', len(testString))\n",
    "testString = 'Python'\n",
    "print('Length of', testString,'is', len(testString))\n",
    "testByte = b'Python'\n",
    "print('Length of', testByte,'is', len(testByte))\n",
    "testList = [1, 2, 3]\n",
    "# converting to bytes object\n",
    "testByte = bytes(testList)\n",
    "print('Length of', testByte, 'is', len(testByte))"
   ]
  },
  {
   "cell_type": "code",
   "execution_count": 1,
   "id": "56d86884",
   "metadata": {},
   "outputs": [
    {
     "name": "stdout",
     "output_type": "stream",
     "text": [
      "{1, 2, 3} length is 3\n",
      "set() length is 0\n",
      "{1: 'one', 2: 'two'} length is 2\n",
      "{} length is 0\n",
      "frozenset({1, 2}) length is 2\n"
     ]
    }
   ],
   "source": [
    "testSet = {1, 2, 3}\n",
    "print(testSet, 'length is', len(testSet))\n",
    "# Empty Set\n",
    "testSet = set()\n",
    "print(testSet, 'length is', len(testSet))\n",
    "testDict = {1: 'one', 2: 'two'}\n",
    "print(testDict,'length is', len(testDict))\n",
    "testDict = {}\n",
    "print(testDict, 'length is', len(testDict))\n",
    "testSet = {1, 2}\n",
    "# frozenSet\n",
    "frozenTestSet = frozenset(testSet)\n",
    "print(frozenTestSet, 'length is', len(frozenTestSet))"
   ]
  },
  {
   "cell_type": "code",
   "execution_count": 2,
   "id": "9a31c8fd",
   "metadata": {},
   "outputs": [
    {
     "name": "stdout",
     "output_type": "stream",
     "text": [
      "-4\n"
     ]
    }
   ],
   "source": [
    "numbers = [9, 34, 11, -4, 27]\n",
    "# find the smallest number\n",
    "min_number = min(numbers)\n",
    "print(min_number)"
   ]
  },
  {
   "cell_type": "code",
   "execution_count": 3,
   "id": "f7cbf327",
   "metadata": {},
   "outputs": [
    {
     "name": "stdout",
     "output_type": "stream",
     "text": [
      "The smallest number is 2\n"
     ]
    }
   ],
   "source": [
    "number = [3, 2, 8, 5, 10, 6]\n",
    "smallest_number = min(number);\n",
    "\n",
    "print(\"The smallest number is\", smallest_number)"
   ]
  },
  {
   "cell_type": "code",
   "execution_count": 4,
   "id": "f48ef389",
   "metadata": {},
   "outputs": [
    {
     "name": "stdout",
     "output_type": "stream",
     "text": [
      "15\n"
     ]
    }
   ],
   "source": [
    "# for integers\n",
    "print(round(15))"
   ]
  },
  {
   "cell_type": "code",
   "execution_count": 5,
   "id": "fb8beb07",
   "metadata": {},
   "outputs": [
    {
     "name": "stdout",
     "output_type": "stream",
     "text": [
      "52\n",
      "52\n",
      "51\n"
     ]
    }
   ],
   "source": [
    "# for floating point\n",
    "print(round(51.6))\n",
    "print(round(51.5))\n",
    "print(round(51.4))"
   ]
  },
  {
   "cell_type": "code",
   "execution_count": 7,
   "id": "69c96fbf",
   "metadata": {},
   "outputs": [
    {
     "name": "stdout",
     "output_type": "stream",
     "text": [
      "2.67\n",
      "2.68\n",
      "2.67\n"
     ]
    }
   ],
   "source": [
    "print(round(2.665, 2))\n",
    "print(round(2.676, 2))\n",
    "print(round(2.673, 2))"
   ]
  },
  {
   "cell_type": "code",
   "execution_count": 8,
   "id": "1a1f9d33",
   "metadata": {},
   "outputs": [
    {
     "name": "stdout",
     "output_type": "stream",
     "text": [
      "True\n",
      "False\n"
     ]
    }
   ],
   "source": [
    "# string contains either alphabet or number\n",
    "name1 = \"Python3\"\n",
    "print(name1.isalnum()) #True\n",
    "\n",
    "# string contains whitespace\n",
    "name2 = \"Python 3\"\n",
    "print(name2.isalnum()) #False"
   ]
  },
  {
   "cell_type": "code",
   "execution_count": 9,
   "id": "00144224",
   "metadata": {},
   "outputs": [
    {
     "name": "stdout",
     "output_type": "stream",
     "text": [
      "True\n"
     ]
    }
   ],
   "source": [
    "# contains either numeric or alphabet\n",
    "string1 = \"M234onica\"\n",
    "print(string1.isalnum()) # True"
   ]
  },
  {
   "cell_type": "code",
   "execution_count": 10,
   "id": "163b0773",
   "metadata": {},
   "outputs": [
    {
     "name": "stdout",
     "output_type": "stream",
     "text": [
      "False\n"
     ]
    }
   ],
   "source": [
    "# contains whitespace\n",
    "string2 = \"M3onica Gell22er\"\n",
    "print(string2.isalnum()) # False"
   ]
  },
  {
   "cell_type": "code",
   "execution_count": 11,
   "id": "61d5971a",
   "metadata": {},
   "outputs": [
    {
     "name": "stdout",
     "output_type": "stream",
     "text": [
      "False\n"
     ]
    }
   ],
   "source": [
    "# contains non-alphanumeric character\n",
    "string3 = \"@Monica!\"\n",
    "print(string3.isalnum()) # False"
   ]
  },
  {
   "cell_type": "code",
   "execution_count": 13,
   "id": "4eacccb8",
   "metadata": {},
   "outputs": [
    {
     "name": "stdout",
     "output_type": "stream",
     "text": [
      "End of Activity 1\n"
     ]
    }
   ],
   "source": [
    "print(\"End of Activity 1\")"
   ]
  }
 ],
 "metadata": {
  "kernelspec": {
   "display_name": "Python 3 (ipykernel)",
   "language": "python",
   "name": "python3"
  },
  "language_info": {
   "codemirror_mode": {
    "name": "ipython",
    "version": 3
   },
   "file_extension": ".py",
   "mimetype": "text/x-python",
   "name": "python",
   "nbconvert_exporter": "python",
   "pygments_lexer": "ipython3",
   "version": "3.10.6"
  }
 },
 "nbformat": 4,
 "nbformat_minor": 5
}
