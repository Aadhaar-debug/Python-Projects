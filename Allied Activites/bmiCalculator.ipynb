{
 "cells": [
  {
   "cell_type": "code",
   "execution_count": 10,
   "id": "af6f0d8b",
   "metadata": {},
   "outputs": [
    {
     "name": "stdout",
     "output_type": "stream",
     "text": [
      "enter the height in m1.78\n",
      "enter the weight in kg72.57\n",
      "Your body mass index is 22.904305011993433\n"
     ]
    }
   ],
   "source": [
    "height=float(input(\"enter the height in m\"))\n",
    "weight=float(input(\"enter the weight in kg\"))\n",
    "BMI=weight/(height**2)\n",
    "print(\"Your body mass index is\",BMI)"
   ]
  },
  {
   "cell_type": "code",
   "execution_count": null,
   "id": "e1d2406a",
   "metadata": {},
   "outputs": [],
   "source": []
  },
  {
   "cell_type": "code",
   "execution_count": null,
   "id": "f2d5d651",
   "metadata": {},
   "outputs": [],
   "source": []
  }
 ],
 "metadata": {
  "kernelspec": {
   "display_name": "Python 3 (ipykernel)",
   "language": "python",
   "name": "python3"
  },
  "language_info": {
   "codemirror_mode": {
    "name": "ipython",
    "version": 3
   },
   "file_extension": ".py",
   "mimetype": "text/x-python",
   "name": "python",
   "nbconvert_exporter": "python",
   "pygments_lexer": "ipython3",
   "version": "3.10.6"
  }
 },
 "nbformat": 4,
 "nbformat_minor": 5
}
