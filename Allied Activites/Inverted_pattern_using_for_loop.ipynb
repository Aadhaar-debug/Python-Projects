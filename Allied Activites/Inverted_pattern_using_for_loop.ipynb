{
 "cells": [
  {
   "cell_type": "markdown",
   "id": "0e424924",
   "metadata": {},
   "source": [
    "# Python Program to print an Inverted Star Pattern using for loop"
   ]
  },
  {
   "cell_type": "markdown",
   "id": "ee608858",
   "metadata": {},
   "source": [
    "Example 1"
   ]
  },
  {
   "cell_type": "code",
   "execution_count": 1,
   "id": "b938b9d6",
   "metadata": {},
   "outputs": [
    {
     "name": "stdout",
     "output_type": "stream",
     "text": [
      "Enter the number of rows: 3\n",
      "* * *  \n",
      "* *  \n",
      "*  \n",
      " \n"
     ]
    }
   ],
   "source": [
    "#Taking a value from the user and put it into the variable rows.\n",
    "\n",
    "rows = int(input(\"Enter the number of rows: \"))  \n",
    "\n",
    "# outer loop to handle number of rows\n",
    "\n",
    "for i in range(rows + 1, 0, -1):\n",
    "    \n",
    "    # inner loop to handle number of columns  \n",
    "    # values is changing according to outer loop\n",
    "    \n",
    "    for j in range(0, i - 1):  \n",
    "        print(\"*\", end=' ')  \n",
    "    print(\" \")\n",
    "    \n",
    "    #The pattern of an inverted star is printed."
   ]
  },
  {
   "cell_type": "markdown",
   "id": "26bbaf01",
   "metadata": {},
   "source": [
    "Example 2"
   ]
  },
  {
   "cell_type": "code",
   "execution_count": 2,
   "id": "27d2b846",
   "metadata": {},
   "outputs": [
    {
     "name": "stdout",
     "output_type": "stream",
     "text": [
      "Enter the number of rows4\n",
      "* \n",
      "* * \n",
      "* * * \n",
      "* * * * \n"
     ]
    }
   ],
   "source": [
    "#Taking a value from the user and put it into the variable rows.\n",
    "\n",
    "rows = int(input(\"Enter the number of rows\"))  \n",
    "\n",
    "# outer loop to handle number of rows\n",
    "\n",
    "for i in range(0, rows):  \n",
    "    \n",
    "    # inner loop to handle number of columns  \n",
    "    # values is changing according to outer loop \n",
    "    \n",
    "        for j in range(0, i + 1):  \n",
    "            # printing stars  \n",
    "            print(\"* \", end=\"\")       \n",
    "  \n",
    "        # ending line after each row  \n",
    "        print()  "
   ]
  },
  {
   "cell_type": "code",
   "execution_count": null,
   "id": "b2bf4274",
   "metadata": {},
   "outputs": [],
   "source": []
  }
 ],
 "metadata": {
  "kernelspec": {
   "display_name": "Python 3 (ipykernel)",
   "language": "python",
   "name": "python3"
  },
  "language_info": {
   "codemirror_mode": {
    "name": "ipython",
    "version": 3
   },
   "file_extension": ".py",
   "mimetype": "text/x-python",
   "name": "python",
   "nbconvert_exporter": "python",
   "pygments_lexer": "ipython3",
   "version": "3.10.6"
  }
 },
 "nbformat": 4,
 "nbformat_minor": 5
}
