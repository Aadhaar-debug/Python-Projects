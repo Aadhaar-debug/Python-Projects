{
 "cells": [
  {
   "cell_type": "markdown",
   "id": "21a00937",
   "metadata": {},
   "source": [
    "# Activity 2"
   ]
  },
  {
   "cell_type": "markdown",
   "id": "d4ac366b",
   "metadata": {},
   "source": [
    "Method #1: Using For loop"
   ]
  },
  {
   "cell_type": "code",
   "execution_count": 29,
   "id": "7e31847c",
   "metadata": {},
   "outputs": [
    {
     "name": "stdout",
     "output_type": "stream",
     "text": [
      "1\n",
      "3\n",
      "5\n",
      "7\n",
      "9\n"
     ]
    }
   ],
   "source": [
    "#Python3 code to iterate over a list\n",
    "list = [1, 3, 5, 7, 9]\n",
    "#Using for loop\n",
    "for i in list:\n",
    "    print(i)"
   ]
  },
  {
   "cell_type": "markdown",
   "id": "8e80279f",
   "metadata": {},
   "source": [
    "# Method #2: For loop and range()"
   ]
  },
  {
   "cell_type": "code",
   "execution_count": 4,
   "id": "adf24d2e",
   "metadata": {},
   "outputs": [
    {
     "name": "stdout",
     "output_type": "stream",
     "text": [
      "1\n",
      "3\n",
      "5\n",
      "7\n",
      "9\n"
     ]
    }
   ],
   "source": [
    "# Python3 code to iterate over a list\n",
    "list = [1, 3, 5, 7, 9]\n",
    "#getting length of list\n",
    "length = len(list)\n",
    "#Iterating the index\n",
    "#same as 'for i in range(len(list))'\n",
    "for i in range(length):\n",
    "    print(list[i])"
   ]
  },
  {
   "cell_type": "code",
   "execution_count": 7,
   "id": "3bd09e05",
   "metadata": {},
   "outputs": [
    {
     "name": "stdout",
     "output_type": "stream",
     "text": [
      "1\n",
      "3\n",
      "5\n",
      "7\n",
      "9\n"
     ]
    }
   ],
   "source": [
    "# Python3 code to iterate over a list\n",
    "list = [1, 3, 5, 7, 9]\n",
    "# Getting length of list\n",
    "length = len(list)\n",
    "i = 0\n",
    "# Iterating using while loop\n",
    "while i < length:\n",
    "    print(list[i])\n",
    "    i += 1"
   ]
  },
  {
   "cell_type": "markdown",
   "id": "0b4d1464",
   "metadata": {},
   "source": [
    "# Method #4: Using list comprehension (Possibly the most concrete way)"
   ]
  },
  {
   "cell_type": "code",
   "execution_count": 8,
   "id": "61eb68d2",
   "metadata": {},
   "outputs": [
    {
     "name": "stdout",
     "output_type": "stream",
     "text": [
      "1\n",
      "3\n",
      "5\n",
      "7\n",
      "9\n"
     ]
    },
    {
     "data": {
      "text/plain": [
       "[None, None, None, None, None]"
      ]
     },
     "execution_count": 8,
     "metadata": {},
     "output_type": "execute_result"
    }
   ],
   "source": [
    "#Python3 code to iterate over a list\n",
    "list = [1, 3, 5, 7, 9]\n",
    "#Using list comprehension\n",
    "[print(i) for i in list]"
   ]
  },
  {
   "cell_type": "markdown",
   "id": "164b86d4",
   "metadata": {},
   "source": [
    "# DICTIONARY"
   ]
  },
  {
   "cell_type": "markdown",
   "id": "487be8f5",
   "metadata": {},
   "source": [
    "Example 1: Access key using the build .keys()"
   ]
  },
  {
   "cell_type": "code",
   "execution_count": 12,
   "id": "927fbd72",
   "metadata": {},
   "outputs": [
    {
     "name": "stdout",
     "output_type": "stream",
     "text": [
      "dict_keys(['Gujarat', 'Maharashtra', 'Rajasthan', 'Bihar'])\n"
     ]
    }
   ],
   "source": [
    "#Python code to iterate through all values in a dictionary\n",
    "statesAndCapitals = {\n",
    "     'Gujarat': 'Gandhinagar',\n",
    "     'Maharashtra': 'Mumbai',\n",
    "     'Rajasthan': 'Jaipur',\n",
    "     'Bihar': 'Patna'\n",
    "}\n",
    "keys=statesAndCapitals.keys()\n",
    "print(keys)"
   ]
  },
  {
   "cell_type": "markdown",
   "id": "a27f374b",
   "metadata": {},
   "source": [
    "Example 2: Access key without using a key()"
   ]
  },
  {
   "cell_type": "code",
   "execution_count": 17,
   "id": "c9c73fb5",
   "metadata": {},
   "outputs": [
    {
     "name": "stdout",
     "output_type": "stream",
     "text": [
      "List Of given states:\n",
      "\n",
      "Gujarat\n",
      "Maharashtra\n",
      "Rajasthan\n",
      "Bihar\n"
     ]
    }
   ],
   "source": [
    "#Python code to iterate through all keys in a dictionary\n",
    "statesAndCapitals = {\n",
    "    'Gujarat': 'Gandhinagar',\n",
    "    'Maharashtra': 'Mumbai',\n",
    "    'Rajasthan': 'Jaipur',\n",
    "    'Bihar': 'Patna'\n",
    "}\n",
    "print('List Of given states:\\n')\n",
    "#Iterating over keys\n",
    "for state in statesAndCapitals:\n",
    "    print(state)"
   ]
  },
  {
   "cell_type": "markdown",
   "id": "2efe0f8f",
   "metadata": {},
   "source": [
    "Example 3: Iterate through all values using .values()"
   ]
  },
  {
   "cell_type": "code",
   "execution_count": 24,
   "id": "7a406533",
   "metadata": {},
   "outputs": [
    {
     "name": "stdout",
     "output_type": "stream",
     "text": [
      "List Of given capitals:\n",
      "\n",
      "Gandhinagar\n",
      "Mumbai\n",
      "Jaipur\n",
      "Patna\n"
     ]
    }
   ],
   "source": [
    "#Python code to iterate through all values in a dictionary\n",
    "statesAndCapitals ={\n",
    "    'Gujarat': 'Gandhinagar',\n",
    "    'Maharashtra': 'Mumbai',\n",
    "    'Rajasthan': 'Jaipur',\n",
    "    'Bihar': 'Patna'\n",
    "}\n",
    "print('List Of given capitals:\\n')\n",
    "#Iterating over values\n",
    "for capital in statesAndCapitals.values():\n",
    "    print(capital)"
   ]
  },
  {
   "cell_type": "markdown",
   "id": "8a68828d",
   "metadata": {},
   "source": [
    "Example 4: Iterate through all key, and value pairs using items()"
   ]
  },
  {
   "cell_type": "code",
   "execution_count": 25,
   "id": "52f35cfb",
   "metadata": {},
   "outputs": [
    {
     "name": "stdout",
     "output_type": "stream",
     "text": [
      "List Of given states and their capitals:\n",
      "\n",
      "Gujarat : Gandhinagar\n",
      "Maharashtra : Mumbai\n",
      "Rajasthan : Jaipur\n",
      "Bihar : Patna\n"
     ]
    }
   ],
   "source": [
    "#Python code to iterate through all key, value\n",
    "#pairs in a dictionary\n",
    "statesAndCapitals = {\n",
    "    'Gujarat': 'Gandhinagar',\n",
    "    'Maharashtra': 'Mumbai',\n",
    "    'Rajasthan': 'Jaipur',\n",
    "    'Bihar': 'Patna'\n",
    "}\n",
    "print('List Of given states and their capitals:\\n')\n",
    "#Iterating over values\n",
    "for state, capital in statesAndCapitals.items():\n",
    "    print(state, \":\", capital)"
   ]
  },
  {
   "cell_type": "markdown",
   "id": "d4715e54",
   "metadata": {},
   "source": [
    "Example 5: Access both key and value without using items()"
   ]
  },
  {
   "cell_type": "code",
   "execution_count": 26,
   "id": "7427c336",
   "metadata": {},
   "outputs": [
    {
     "name": "stdout",
     "output_type": "stream",
     "text": [
      "Gujarat -> Gandhinagar\n",
      "Maharashtra -> Mumbai\n",
      "Rajasthan -> Jaipur\n",
      "Bihar -> Patna\n"
     ]
    }
   ],
   "source": [
    "#Python code to iterate through all values in a dictionary\n",
    "statesAndCapitals = {\n",
    "    'Gujarat': 'Gandhinagar',\n",
    "    'Maharashtra': 'Mumbai',\n",
    "    'Rajasthan': 'Jaipur',\n",
    "    'Bihar': 'Patna'\n",
    "}\n",
    "for i in statesAndCapitals:\n",
    "    print(i, '->', statesAndCapitals[i])"
   ]
  },
  {
   "cell_type": "markdown",
   "id": "84273c41",
   "metadata": {},
   "source": [
    "Example 6: Print items in Key-Value in pair"
   ]
  },
  {
   "cell_type": "code",
   "execution_count": 28,
   "id": "57ce2e68",
   "metadata": {},
   "outputs": [
    {
     "name": "stdout",
     "output_type": "stream",
     "text": [
      "dict_items([('Gujarat', 'Gandhinagar'), ('Maharashtra', 'Mumbai'), ('Rajasthan', 'Jaipur'), ('Bihar', 'Patna')])\n"
     ]
    }
   ],
   "source": [
    "#Python code to iterate through all values in a dictionary\n",
    "statesAndCapitals = {\n",
    "    'Gujarat': 'Gandhinagar',\n",
    "    'Maharashtra': 'Mumbai',\n",
    "    'Rajasthan': 'Jaipur',\n",
    "    'Bihar': 'Patna'\n",
    "}\n",
    "keys = statesAndCapitals.items()\n",
    "print(keys)"
   ]
  }
 ],
 "metadata": {
  "kernelspec": {
   "display_name": "Python 3 (ipykernel)",
   "language": "python",
   "name": "python3"
  },
  "language_info": {
   "codemirror_mode": {
    "name": "ipython",
    "version": 3
   },
   "file_extension": ".py",
   "mimetype": "text/x-python",
   "name": "python",
   "nbconvert_exporter": "python",
   "pygments_lexer": "ipython3",
   "version": "3.10.6"
  }
 },
 "nbformat": 4,
 "nbformat_minor": 5
}
