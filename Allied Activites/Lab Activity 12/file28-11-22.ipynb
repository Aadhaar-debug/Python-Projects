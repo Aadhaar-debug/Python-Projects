{
 "cells": [
  {
   "cell_type": "code",
   "execution_count": 3,
   "id": "e2f50b31",
   "metadata": {},
   "outputs": [
    {
     "name": "stdout",
     "output_type": "stream",
     "text": [
      "Enter three lines\n",
      "hello\n",
      "my name is mr X\n",
      "i am learning python\n",
      "\n",
      "Data written to file\n",
      "\n",
      "hello\n",
      "my name is mr X\n",
      "i am learning python\n",
      "\n"
     ]
    }
   ],
   "source": [
    "fname = open(\"sampletxt.txt\", 'w+')\n",
    "print( \"Enter three lines\")\n",
    "i=1\n",
    "while i <= 3:\n",
    "      data = input ()\n",
    "      fname.write(f\"{data}\\n\") \n",
    "      i += 1\n",
    "fname = open(\"sampletxt.txt\")\n",
    "data = fname.read()\n",
    "print(\"\\nData written to file\\n\")\n",
    "print(data)\n",
    "fname.close ()"
   ]
  },
  {
   "cell_type": "code",
   "execution_count": null,
   "id": "cff395d4",
   "metadata": {},
   "outputs": [],
   "source": []
  },
  {
   "cell_type": "code",
   "execution_count": null,
   "id": "215b2564",
   "metadata": {},
   "outputs": [],
   "source": []
  }
 ],
 "metadata": {
  "kernelspec": {
   "display_name": "Python 3 (ipykernel)",
   "language": "python",
   "name": "python3"
  },
  "language_info": {
   "codemirror_mode": {
    "name": "ipython",
    "version": 3
   },
   "file_extension": ".py",
   "mimetype": "text/x-python",
   "name": "python",
   "nbconvert_exporter": "python",
   "pygments_lexer": "ipython3",
   "version": "3.10.5"
  }
 },
 "nbformat": 4,
 "nbformat_minor": 5
}
