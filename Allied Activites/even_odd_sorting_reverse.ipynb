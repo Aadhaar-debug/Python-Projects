{
 "cells": [
  {
   "cell_type": "markdown",
   "id": "4fa80a0a",
   "metadata": {},
   "source": [
    "Program to print even numbers using for loop"
   ]
  },
  {
   "cell_type": "code",
   "execution_count": 6,
   "id": "cf69debf",
   "metadata": {},
   "outputs": [
    {
     "name": "stdout",
     "output_type": "stream",
     "text": [
      "1\n",
      "3\n",
      "5\n",
      "7\n",
      "9\n"
     ]
    }
   ],
   "source": [
    "list=[1,2,3,4,5,6,7,8,9]\n",
    "for i in list:\n",
    "    if i % 2 == 0:\n",
    "        print(i)"
   ]
  },
  {
   "cell_type": "code",
   "execution_count": 7,
   "id": "3342338a",
   "metadata": {},
   "outputs": [
    {
     "name": "stdout",
     "output_type": "stream",
     "text": [
      "1\n",
      "3\n",
      "5\n",
      "7\n",
      "9\n"
     ]
    }
   ],
   "source": [
    "list=[1,2,3,4,5,6,7,8,9]\n",
    "for i in list:\n",
    "    if i % 2 != 0:\n",
    "        print(i)"
   ]
  },
  {
   "cell_type": "code",
   "execution_count": 15,
   "id": "989b4d65",
   "metadata": {},
   "outputs": [
    {
     "name": "stdout",
     "output_type": "stream",
     "text": [
      "[1, 4, 5, 6, 7, 9]\n",
      "The reversed list is  [9, 7, 6, 5, 4, 1]\n"
     ]
    }
   ],
   "source": [
    "list1 = [1,5,6]\n",
    "list2 = [4,7,9]\n",
    "list3 = sorted(list1 + list2)\n",
    "print(list3)\n",
    "list3.reverse()\n",
    "print(\"The reversed list is \", list3)"
   ]
  },
  {
   "cell_type": "code",
   "execution_count": null,
   "id": "cc52d3d8",
   "metadata": {},
   "outputs": [],
   "source": []
  }
 ],
 "metadata": {
  "kernelspec": {
   "display_name": "Python 3 (ipykernel)",
   "language": "python",
   "name": "python3"
  },
  "language_info": {
   "codemirror_mode": {
    "name": "ipython",
    "version": 3
   },
   "file_extension": ".py",
   "mimetype": "text/x-python",
   "name": "python",
   "nbconvert_exporter": "python",
   "pygments_lexer": "ipython3",
   "version": "3.10.6"
  }
 },
 "nbformat": 4,
 "nbformat_minor": 5
}
