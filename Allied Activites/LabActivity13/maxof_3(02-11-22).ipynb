{
 "cells": [
  {
   "cell_type": "markdown",
   "id": "46cf3fdf",
   "metadata": {},
   "source": [
    "# using list"
   ]
  },
  {
   "cell_type": "code",
   "execution_count": 1,
   "id": "f0c686c2",
   "metadata": {},
   "outputs": [
    {
     "name": "stdout",
     "output_type": "stream",
     "text": [
      "14\n"
     ]
    }
   ],
   "source": [
    "def maximum(a, b, c):\n",
    "    list = [a, b, c]\n",
    "    return max(list)\n",
    "  \n",
    "# Driven code \n",
    "a = 10\n",
    "b = 14\n",
    "c = 12\n",
    "print(maximum(a, b, c))"
   ]
  },
  {
   "cell_type": "markdown",
   "id": "64b12259",
   "metadata": {},
   "source": [
    "# simple method"
   ]
  },
  {
   "cell_type": "code",
   "execution_count": 2,
   "id": "b29a1861",
   "metadata": {},
   "outputs": [
    {
     "name": "stdout",
     "output_type": "stream",
     "text": [
      "enter the num1:22\n",
      "enter the num2:14\n",
      "enter the num3:10\n",
      "num1 is greater: 22\n"
     ]
    }
   ],
   "source": [
    "def maximum(num1, num2, num3):\n",
    "    if num1>=num2 and num1>=num3:\n",
    "        print(\"num1 is greater:\",num1)\n",
    "    elif num2>=num1 and num2>=num3:\n",
    "        print(\"num2 is greater:\",num2)\n",
    "    else:\n",
    "        print(\"num3 is greater:\",num3)\n",
    "\n",
    "num1 = int(input(\"enter the num1:\"))\n",
    "num2 = int(input(\"enter the num2:\"))\n",
    "num3 = int(input(\"enter the num3:\"))\n",
    "\n",
    "maximum(num1, num2, num3)"
   ]
  },
  {
   "cell_type": "markdown",
   "id": "e373e152",
   "metadata": {},
   "source": [
    "# using max function"
   ]
  },
  {
   "cell_type": "code",
   "execution_count": 4,
   "id": "ac60cd0d",
   "metadata": {},
   "outputs": [
    {
     "name": "stdout",
     "output_type": "stream",
     "text": [
      "32\n"
     ]
    }
   ],
   "source": [
    "num1 = 12\n",
    "num2 = 32\n",
    "num3 = 18\n",
    "\n",
    "print(max(num1,num2,num3))"
   ]
  },
  {
   "cell_type": "code",
   "execution_count": null,
   "id": "bb5aefcc",
   "metadata": {},
   "outputs": [],
   "source": []
  }
 ],
 "metadata": {
  "kernelspec": {
   "display_name": "Python 3 (ipykernel)",
   "language": "python",
   "name": "python3"
  },
  "language_info": {
   "codemirror_mode": {
    "name": "ipython",
    "version": 3
   },
   "file_extension": ".py",
   "mimetype": "text/x-python",
   "name": "python",
   "nbconvert_exporter": "python",
   "pygments_lexer": "ipython3",
   "version": "3.10.5"
  }
 },
 "nbformat": 4,
 "nbformat_minor": 5
}
