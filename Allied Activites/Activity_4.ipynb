{
 "cells": [
  {
   "cell_type": "markdown",
   "id": "37387366",
   "metadata": {},
   "source": [
    "Activity - 4"
   ]
  },
  {
   "cell_type": "markdown",
   "id": "b61ba024",
   "metadata": {},
   "source": [
    "# Linear Search"
   ]
  },
  {
   "cell_type": "code",
   "execution_count": 37,
   "id": "5daadb6e",
   "metadata": {},
   "outputs": [
    {
     "name": "stdout",
     "output_type": "stream",
     "text": [
      "Element found at index:  4\n"
     ]
    }
   ],
   "source": [
    "def linear_Search(list1, n, key):   \n",
    "    for i in range(0, n):  \n",
    "        if (list1[i] == key):  \n",
    "            return i\n",
    "    return -1\n",
    "list1 = [1 ,3, 5, 4, 7, 9]  \n",
    "key = 7\n",
    "n = len(list1)  \n",
    "res = linear_Search(list1, n, key)  \n",
    "if(res == -1):  \n",
    "    print(\"Element not found\")  \n",
    "else:  \n",
    "    print(\"Element found at index: \", res)  "
   ]
  },
  {
   "cell_type": "markdown",
   "id": "25dc0777",
   "metadata": {},
   "source": [
    "# Binary Search"
   ]
  },
  {
   "cell_type": "code",
   "execution_count": 46,
   "id": "eb2a6f34",
   "metadata": {},
   "outputs": [
    {
     "name": "stdout",
     "output_type": "stream",
     "text": [
      "Element is present at index 4\n"
     ]
    }
   ],
   "source": [
    "def binary_search(list1, n):  \n",
    "    low = 0  \n",
    "    high = len(list1) - 1  \n",
    "    mid = 0 \n",
    "    while low <= high:  \n",
    "        # for get integer result   \n",
    "        mid = (high + low) // 2\n",
    "        if list1[mid] < n:  \n",
    "            low = mid + 1\n",
    "        elif list1[mid] > n:  \n",
    "            high = mid - 1 \n",
    "        else:  \n",
    "            return mid  \n",
    "    return -1\n",
    "# Initial list1  \n",
    "list1 = [12, 24, 32, 39, 45, 50, 54]  \n",
    "n = 45  \n",
    "result = binary_search(list1, n)\n",
    "if result != -1:  \n",
    "    print(\"Element is present at index\", str(result))  \n",
    "else:  \n",
    "    print(\"Element is not present in list1\")  "
   ]
  },
  {
   "cell_type": "code",
   "execution_count": 75,
   "id": "36c35e95",
   "metadata": {},
   "outputs": [
    {
     "name": "stdout",
     "output_type": "stream",
     "text": [
      "Element is present at index 2\n"
     ]
    }
   ],
   "source": [
    "def binary_search(list1, low, high, n):  \n",
    "   # Check base case for the recursive function  \n",
    "   if low <= high:\n",
    "      mid = (low + high) // 2\n",
    "      # If element is available at the middle itself then return the its index  \n",
    "      if list1[mid] == n:   \n",
    "         return mid   \n",
    "      elif list1[mid] > n:   \n",
    "         return binary_search(list1, low, mid - 1, n) \n",
    "      else:\n",
    "            return binary_search(list1, mid + 1, high, n)   \n",
    "  \n",
    "   else:   \n",
    "      # Element is not available in the list1  \n",
    "      return -1 \n",
    "list1 = [12, 24, 32, 39, 45, 50, 54]  \n",
    "n = 32\n",
    "# Function call   \n",
    "res = binary_search(list1, 0, len(list1)-1, n)\n",
    "if res != -1:\n",
    "    print(\"Element is present at index\", str(res))  \n",
    "else:\n",
    "    print(\"Element is not present in list1\")  "
   ]
  },
  {
   "cell_type": "code",
   "execution_count": null,
   "id": "01918cfc",
   "metadata": {},
   "outputs": [],
   "source": []
  }
 ],
 "metadata": {
  "kernelspec": {
   "display_name": "Python 3 (ipykernel)",
   "language": "python",
   "name": "python3"
  },
  "language_info": {
   "codemirror_mode": {
    "name": "ipython",
    "version": 3
   },
   "file_extension": ".py",
   "mimetype": "text/x-python",
   "name": "python",
   "nbconvert_exporter": "python",
   "pygments_lexer": "ipython3",
   "version": "3.10.6"
  }
 },
 "nbformat": 4,
 "nbformat_minor": 5
}
