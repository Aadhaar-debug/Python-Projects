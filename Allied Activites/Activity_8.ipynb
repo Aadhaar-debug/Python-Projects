{
 "cells": [
  {
   "cell_type": "markdown",
   "id": "5671f04b",
   "metadata": {},
   "source": [
    "# Activity 8"
   ]
  },
  {
   "cell_type": "markdown",
   "id": "5baa6e5d",
   "metadata": {},
   "source": [
    "Write a python program to convert temperature to\n",
    "and from Celsius to Fahrenheit."
   ]
  },
  {
   "cell_type": "code",
   "execution_count": 4,
   "id": "30d2f399",
   "metadata": {},
   "outputs": [
    {
     "name": "stdout",
     "output_type": "stream",
     "text": [
      "40.00 Celsius is equivalent to: 104.00 Fahrenheit\n"
     ]
    }
   ],
   "source": [
    "# Temperature in celsius degree\n",
    "celsius = 40\n",
    "# Converting the temperature to\n",
    "# fahrenheit using the above\n",
    "# mentioned formula\n",
    "fahrenheit = (celsius * 1.8) + 32\n",
    "# printing the result\n",
    "print('%.2f Celsius is equivalent to: %.2f Fahrenheit' %(celsius,fahrenheit))"
   ]
  },
  {
   "cell_type": "markdown",
   "id": "f6919546",
   "metadata": {},
   "source": [
    "Second taking Input from user"
   ]
  },
  {
   "cell_type": "code",
   "execution_count": 6,
   "id": "77aed1a3",
   "metadata": {},
   "outputs": [
    {
     "name": "stdout",
     "output_type": "stream",
     "text": [
      "Enter the temperature43\n",
      "43.00 Celsius is equivalent to: 109.40 Fahrenheit\n"
     ]
    }
   ],
   "source": [
    "celsius = int(input(\"Enter the temperature))\n",
    "# Converting the temperature to\n",
    "# fehrenheit using the above\n",
    "# mentioned formula\n",
    "fahrenheit = (celsius * 1.8) + 32\n",
    "# printing the result\n",
    "print('%.2f Celsius is equivalent to: %.2f Fahrenheit' %(celsius,fahrenheit))"
   ]
  },
  {
   "cell_type": "markdown",
   "id": "85b0d1ab",
   "metadata": {},
   "source": [
    "Converting the given program from statement to function for Celsius to\n",
    "Fahrenheit conversion."
   ]
  },
  {
   "cell_type": "code",
   "execution_count": null,
   "id": "2adab6ee",
   "metadata": {},
   "outputs": [],
   "source": [
    "def ConvertCtoF(C):\n",
    "    # Convert the Celsius into Fahrenheit\n",
    "    F=(C* 1.8) + 32\n",
    "\n",
    "    # Return the conversion value\n",
    "    return F\n",
    "# Take the Fahrenheit value from the user\n",
    "F = float(input(\"Enter the temperature in Celsius:\"))\n",
    "# Print the Celsius value\n",
    "print(\"Temperature in Celsius = {:.2f}\".format(C))\n",
    "# Print the Fahrenheit value\n",
    "print(\"Temperature in Fahrenheit = {:.2f}\".format(ConvertFtoC(C)))"
   ]
  },
  {
   "cell_type": "code",
   "execution_count": null,
   "id": "670bef80",
   "metadata": {},
   "outputs": [],
   "source": [
    "# Define function to convert Fahrenheit to Celsius\n",
    "def ConvertFtoC(F):\n",
    "    # Convert the Fahrenheit into Celsius\n",
    "    C = (5 / 9) * (F - 32)\n",
    "    # Return the conversion value\n",
    "    return C\n",
    "# Take the Fahrenheit value from the user\n",
    "F = float(input(\"Enter the temperature in Fahrenheit:\"))\n",
    "# Print the Fahrenheit value\n",
    "print(\"Temperature in Fahrenheit = {:.2f}\".format(F))\n",
    "# Print the Celsius value\n",
    "print(\"Temperature in Celsius = {:.2f}\".format(ConvertFtoC(F)))"
   ]
  }
 ],
 "metadata": {
  "kernelspec": {
   "display_name": "Python 3 (ipykernel)",
   "language": "python",
   "name": "python3"
  },
  "language_info": {
   "codemirror_mode": {
    "name": "ipython",
    "version": 3
   },
   "file_extension": ".py",
   "mimetype": "text/x-python",
   "name": "python",
   "nbconvert_exporter": "python",
   "pygments_lexer": "ipython3",
   "version": "3.10.6"
  }
 },
 "nbformat": 4,
 "nbformat_minor": 5
}
