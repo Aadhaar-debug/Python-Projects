{
 "cells": [
  {
   "cell_type": "code",
   "execution_count": 3,
   "id": "730596e1",
   "metadata": {},
   "outputs": [
    {
     "name": "stdout",
     "output_type": "stream",
     "text": [
      "Enter the input file name:sample.txt\n",
      "done\n",
      "words in aphabetical order are: ['ant', 'cat', 'dog', 'hen', 'horse', 'loin', 'zebra']\n"
     ]
    }
   ],
   "source": [
    "def sort_word_file(fileName):\n",
    "    f=open(fileName, 'r')\n",
    "    lines=f.read()\n",
    "    f.close()\n",
    "    wordList=lines.split()\n",
    "    \n",
    "    words=sorted(list(set(wordList)))\n",
    "    \n",
    "    with open('test.txt','w')as fp:\n",
    "        for item in words:\n",
    "            fp.write(\"%s\\n\"%item)\n",
    "        print(\"done\")\n",
    "        \n",
    "        print(\"words in aphabetical order are:\",words)\n",
    "        \n",
    "def main():\n",
    "    fileName = input(\"Enter the input file name:\")\n",
    "    sort_word_file(fileName)\n",
    "    \n",
    "if __name__ == \"__main__\":\n",
    "    main()"
   ]
  },
  {
   "cell_type": "code",
   "execution_count": null,
   "id": "99794453",
   "metadata": {},
   "outputs": [],
   "source": []
  }
 ],
 "metadata": {
  "kernelspec": {
   "display_name": "Python 3 (ipykernel)",
   "language": "python",
   "name": "python3"
  },
  "language_info": {
   "codemirror_mode": {
    "name": "ipython",
    "version": 3
   },
   "file_extension": ".py",
   "mimetype": "text/x-python",
   "name": "python",
   "nbconvert_exporter": "python",
   "pygments_lexer": "ipython3",
   "version": "3.10.5"
  }
 },
 "nbformat": 4,
 "nbformat_minor": 5
}
